{
 "cells": [
  {
   "cell_type": "code",
   "execution_count": 1,
   "metadata": {},
   "outputs": [],
   "source": [
    "import gym \n",
    "import os \n",
    "import gc\n",
    "import math\n",
    "import random\n",
    "import numpy as np\n",
    "import torch\n",
    "from matplotlib import pyplot as plt\n",
    "import torch.nn as nn\n",
    "import torch.optim as optim\n",
    "import torch.nn.functional as f\n",
    "import torchvision.transforms as t"
   ]
  },
  {
   "cell_type": "code",
   "execution_count": 2,
   "metadata": {},
   "outputs": [],
   "source": [
    "\n",
    "env = gym.envs.make(\"Breakout-v0\")"
   ]
  },
  {
   "cell_type": "code",
   "execution_count": 3,
   "metadata": {},
   "outputs": [
    {
     "data": {
      "text/plain": [
       "array([[[0, 0, 0],\n",
       "        [0, 0, 0],\n",
       "        [0, 0, 0],\n",
       "        ...,\n",
       "        [0, 0, 0],\n",
       "        [0, 0, 0],\n",
       "        [0, 0, 0]],\n",
       "\n",
       "       [[0, 0, 0],\n",
       "        [0, 0, 0],\n",
       "        [0, 0, 0],\n",
       "        ...,\n",
       "        [0, 0, 0],\n",
       "        [0, 0, 0],\n",
       "        [0, 0, 0]],\n",
       "\n",
       "       [[0, 0, 0],\n",
       "        [0, 0, 0],\n",
       "        [0, 0, 0],\n",
       "        ...,\n",
       "        [0, 0, 0],\n",
       "        [0, 0, 0],\n",
       "        [0, 0, 0]],\n",
       "\n",
       "       ...,\n",
       "\n",
       "       [[0, 0, 0],\n",
       "        [0, 0, 0],\n",
       "        [0, 0, 0],\n",
       "        ...,\n",
       "        [0, 0, 0],\n",
       "        [0, 0, 0],\n",
       "        [0, 0, 0]],\n",
       "\n",
       "       [[0, 0, 0],\n",
       "        [0, 0, 0],\n",
       "        [0, 0, 0],\n",
       "        ...,\n",
       "        [0, 0, 0],\n",
       "        [0, 0, 0],\n",
       "        [0, 0, 0]],\n",
       "\n",
       "       [[0, 0, 0],\n",
       "        [0, 0, 0],\n",
       "        [0, 0, 0],\n",
       "        ...,\n",
       "        [0, 0, 0],\n",
       "        [0, 0, 0],\n",
       "        [0, 0, 0]]], dtype=uint8)"
      ]
     },
     "execution_count": 3,
     "metadata": {},
     "output_type": "execute_result"
    }
   ],
   "source": [
    "state = env.reset()\n",
    "state"
   ]
  },
  {
   "cell_type": "code",
   "execution_count": 4,
   "metadata": {},
   "outputs": [
    {
     "name": "stdout",
     "output_type": "stream",
     "text": [
      "Action space size: 4\n",
      "['NOOP', 'FIRE', 'RIGHT', 'LEFT']\n",
      "Observation space shape: (210, 160, 3)\n"
     ]
    }
   ],
   "source": [
    "print(\"Action space size: {}\".format(env.action_space.n))\n",
    "print(env.get_action_meanings()) # env.unwrapped.get_action_meanings() for gym 0.8.0 or later\n",
    "print(\"Observation space shape: {}\".format(state.shape))\n"
   ]
  },
  {
   "cell_type": "code",
   "execution_count": 5,
   "metadata": {},
   "outputs": [
    {
     "data": {
      "text/plain": [
       "<matplotlib.image.AxesImage at 0x7f9efe7d1668>"
      ]
     },
     "execution_count": 5,
     "metadata": {},
     "output_type": "execute_result"
    },
    {
     "data": {
      "image/png": "[encoded data removed]",
      "text/plain": [
       "<Figure size 432x288 with 1 Axes>"
      ]
     },
     "metadata": {
      "needs_background": "light"
     },
     "output_type": "display_data"
    }
   ],
   "source": [
    "plt.figure()\n",
    "plt.imshow(env.render(mode='rgb_array'))"
   ]
  },
  {
   "cell_type": "code",
   "execution_count": 6,
   "metadata": {},
   "outputs": [
    {
     "data": {
      "text/plain": [
       "<matplotlib.image.AxesImage at 0x7f9efbaf97f0>"
      ]
     },
     "execution_count": 6,
     "metadata": {},
     "output_type": "execute_result"
    },
    {
     "data": {
      "image/png": "[encoded data removed]",
      "text/plain": [
       "<Figure size 432x288 with 1 Axes>"
      ]
     },
     "metadata": {
      "needs_background": "light"
     },
     "output_type": "display_data"
    }
   ],
   "source": [
    "env.reset\n",
    "[env.step(1) for x in range(1)]\n",
    "plt.figure()\n",
    "plt.imshow(env.render(mode='rgb_array'))"
   ]
  },
  {
   "cell_type": "code",
   "execution_count": 7,
   "metadata": {},
   "outputs": [
    {
     "data": {
      "text/plain": [
       "<matplotlib.image.AxesImage at 0x7f9efbaf5278>"
      ]
     },
     "execution_count": 7,
     "metadata": {},
     "output_type": "execute_result"
    },
    {
     "data": {
      "image/png": "[encoded data removed]",
      "text/plain": [
       "<Figure size 432x288 with 1 Axes>"
      ]
     },
     "metadata": {
      "needs_background": "light"
     },
     "output_type": "display_data"
    }
   ],
   "source": [
    "env.reset()\n",
    "[env.step(3) for x in range(4)]\n",
    "plt.figure()\n",
    "plt.imshow(env.render(mode='rgb_array'))"
   ]
  },
  {
   "cell_type": "code",
   "execution_count": 8,
   "metadata": {},
   "outputs": [
    {
     "data": {
      "text/plain": [
       "<matplotlib.image.AxesImage at 0x7f9efba5ca58>"
      ]
     },
     "execution_count": 8,
     "metadata": {},
     "output_type": "execute_result"
    },
    {
     "data": {
      "image/png": "[encoded data removed]",
      "text/plain": [
       "<Figure size 432x288 with 1 Axes>"
      ]
     },
     "metadata": {
      "needs_background": "light"
     },
     "output_type": "display_data"
    }
   ],
   "source": [
    "env.reset()\n",
    "[env.step(2) for x in range(4)]\n",
    "plt.figure()\n",
    "plt.imshow(env.render(mode='rgb_array'))"
   ]
  },
  {
   "cell_type": "code",
   "execution_count": 9,
   "metadata": {},
   "outputs": [],
   "source": [
    "def process(screen):\n",
    "    screen=screen[34:194,0:160]\n",
    "    \n",
    "    pscreen = t.Compose([t.ToPILImage()])(screen)\n",
    "    pscreen = t.Compose([t.Grayscale()])(pscreen)\n",
    "    pscreen = t.Compose([t.Resize((84,84))])(pscreen)\n",
    "    pscreen = t.Compose([t.ToTensor()])(pscreen)\n",
    "    \n",
    "    return pscreen.unsqueeze(0)"
   ]
  },
  {
   "cell_type": "code",
   "execution_count": 10,
   "metadata": {},
   "outputs": [],
   "source": [
    "screen=env.reset()\n",
    "pscreen=process(screen)"
   ]
  },
  {
   "cell_type": "code",
   "execution_count": 11,
   "metadata": {},
   "outputs": [
    {
     "data": {
      "text/plain": [
       "tensor([[[[0.5569, 0.5569, 0.5569,  ..., 0.5569, 0.5569, 0.5569],\n",
       "          [0.5569, 0.5569, 0.5569,  ..., 0.5569, 0.5569, 0.5569],\n",
       "          [0.5569, 0.5569, 0.5569,  ..., 0.5569, 0.5569, 0.5569],\n",
       "          ...,\n",
       "          [0.5216, 0.5216, 0.5216,  ..., 0.4784, 0.4784, 0.4784],\n",
       "          [0.4980, 0.4980, 0.4980,  ..., 0.4314, 0.4314, 0.4314],\n",
       "          [0.4980, 0.4980, 0.4980,  ..., 0.4314, 0.4314, 0.4314]]]])"
      ]
     },
     "execution_count": 11,
     "metadata": {},
     "output_type": "execute_result"
    }
   ],
   "source": [
    "pscreen"
   ]
  },
  {
   "cell_type": "code",
   "execution_count": 12,
   "metadata": {},
   "outputs": [
    {
     "data": {
      "text/plain": [
       "torch.Size([1, 1, 84, 84])"
      ]
     },
     "execution_count": 12,
     "metadata": {},
     "output_type": "execute_result"
    }
   ],
   "source": [
    "pscreen.shape"
   ]
  },
  {
   "cell_type": "code",
   "execution_count": 40,
   "metadata": {},
   "outputs": [],
   "source": [
    "class DQN(nn.Module):\n",
    "\n",
    "    def __init__(self):\n",
    "        super(DQN, self).__init__()\n",
    "        self.conv1=nn.Sequential(nn.Conv2d(4, 32, kernel_size=8, stride=4),nn.ReLU())       \n",
    "        self.conv2=nn.Sequential(nn.Conv2d(32, 64, kernel_size=8, stride=4),nn.ReLU())   \n",
    "        self.conv3=nn.Sequential(nn.Conv2d(64,64, kernel_size=8, stride=4),nn.ReLU())        \n",
    "        self.dense=torch.nn.Linear(64*7*7,512)\n",
    "        self.r4=nn.ReLU()\n",
    "        self.out=torch.nn.Linear(512,4)\n",
    "        \n",
    "        \n",
    "        for m in self.modules():\n",
    "            if isinstance(m, nn.Conv2d) or isinstance(m, nn.Linear):\n",
    "                 nn.init.kaiming_normal_(m.weight,nonlinearity = 'relu')\n",
    "\n",
    "        \n",
    "                    \n",
    "    def forward(self, x):\n",
    "        x = self.conv1(x)\n",
    "        x = self.conv2(x)\n",
    "        x = self.conv3(x)\n",
    "    \n",
    "        x = x.view(x.size(0),-1)\n",
    "        x=self.dense(x)\n",
    "        x = self.r4(x)\n",
    "        x = self.out(x)\n",
    "        return x"
   ]
  },
  {
   "cell_type": "code",
   "execution_count": 42,
   "metadata": {},
   "outputs": [],
   "source": [
    "device = torch.device(\"cuda\" if torch.cuda.is_available() else \"cpu\")"
   ]
  },
  {
   "cell_type": "code",
   "execution_count": 44,
   "metadata": {},
   "outputs": [
    {
     "data": {
      "text/plain": [
       "device(type='cuda')"
      ]
     },
     "execution_count": 44,
     "metadata": {},
     "output_type": "execute_result"
    }
   ],
   "source": [
    "device"
   ]
  },
  {
   "cell_type": "code",
   "execution_count": 46,
   "metadata": {},
   "outputs": [],
   "source": [
    "policy_net = DQN().to(device)\n",
    "target_net = DQN().to(device)\n"
   ]
  },
  {
   "cell_type": "code",
   "execution_count": 47,
   "metadata": {},
   "outputs": [
    {
     "data": {
      "text/plain": [
       "IncompatibleKeys(missing_keys=[], unexpected_keys=[])"
      ]
     },
     "execution_count": 47,
     "metadata": {},
     "output_type": "execute_result"
    }
   ],
   "source": [
    "target_net.load_state_dict(policy_net.state_dict())"
   ]
  },
  {
   "cell_type": "code",
   "execution_count": 48,
   "metadata": {},
   "outputs": [
    {
     "data": {
      "text/plain": [
       "<generator object Module.modules at 0x7f9efb991390>"
      ]
     },
     "execution_count": 48,
     "metadata": {},
     "output_type": "execute_result"
    }
   ],
   "source": [
    "target_net.modules()"
   ]
  },
  {
   "cell_type": "code",
   "execution_count": 49,
   "metadata": {},
   "outputs": [],
   "source": [
    "optimizer = optim.RMSprop(policy_net.parameters(),lr= 0.00005, eps=0.01, alpha=0.95)\n",
    "\n",
    "\n"
   ]
  },
  {
   "cell_type": "code",
   "execution_count": null,
   "metadata": {},
   "outputs": [],
   "source": [
    "from collections import namedtuple\n",
    "Transition = namedtuple(\"Transition\", [\"state\", \"action\", \"reward\", \"next_state\", \"done\"])\n"
   ]
  },
  {
   "cell_type": "code",
   "execution_count": null,
   "metadata": {},
   "outputs": [],
   "source": [
    "state = env.reset()\n",
    "state = process(state)\n",
    "state = torch.cat(tuple([state] * 4), dim=1)\n",
    "print(state.shape)\n"
   ]
  },
  {
   "cell_type": "code",
   "execution_count": null,
   "metadata": {},
   "outputs": [],
   "source": [
    "from lib import plotting"
   ]
  },
  {
   "cell_type": "code",
   "execution_count": null,
   "metadata": {},
   "outputs": [],
   "source": [
    "from itertools import count"
   ]
  },
  {
   "cell_type": "code",
   "execution_count": null,
   "metadata": {},
   "outputs": [],
   "source": [
    "def learn(env,num_episodes,experiment_dir,replay_memory_size=500000,replay_memory_init_size=50000,update_target_estimator_every=10000,discount_factor=0.99,epsilon_start=1.0,epsilon_end=0.1,epsilon_decay_steps=500000,batch_size=32,\n",
    "record_video_every=50):\n",
    "    replay_memory = []\n",
    "    # Keeps track of useful statistics\n",
    "#     stats = plotting.EpisodeStats(\n",
    "#         episode_lengths=np.zeros(num_episodes),\n",
    "#         episode_rewards=np.zeros(num_episodes))\n",
    "    \n",
    "#     experiment_dir,replay_memory_size=500000,\n",
    "#     replay_memory_init_size=50000,update_target_estimator_every=10000,discount_factor=0.99,\n",
    "#     epsilon_start=1.0,epsilon_end=0.1,epsilon_decay_steps=500000,batch_size=32,\n",
    "# record_video_every=50):\n",
    "    \n",
    "    episode_lengths=np.zeros(num_episodes)\n",
    "    episode_rewards=np.zeros(num_episodes)\n",
    "   \n",
    "    num_steps = 0\n",
    "    state = env.reset()\n",
    "    state = process(state)\n",
    "    state = torch.cat(tuple([state] * 4), dim=1)\n",
    "    \n",
    "    def e_greedy_action():\n",
    "        sample = random.random()\n",
    "        epsilon = epsilon_end + (epsilon_start - epsilon_end) * math.exp(-1. * num_steps / epsilon_decay_steps)\n",
    "        if sample > epsilon:\n",
    "            with torch.no_grad():\n",
    "                return (policy_net(((torch.from_numpy(state)).float()/255).to(device)).max(1)[1].data[0])\n",
    "        else:\n",
    "            return random.randrange(4)\n",
    "        \n",
    "    for i in range(replay_memory_init_size):\n",
    "        action = e_greedy_action()\n",
    "        next_state, reward, done, _ = env.step(action)\n",
    "        next_state = process(next_state)\n",
    "        next_state = np.concatenate((state[:,1:,:,:],next_state), axis=1)\n",
    "        replay_memory.append(Transition(state, [[int(action)]],[reward], next_state, [not done]))\n",
    "        if done:\n",
    "            state = env.reset()\n",
    "            state = process(state)\n",
    "            state = np.concatenate([state] * 4, axis = 1)\n",
    "        else:\n",
    "            state = next_state\n",
    "\n",
    "    for i_episode in range(num_episodes):\n",
    "        state = env.reset()\n",
    "        state = process(state)\n",
    "        state = np.concatenate([state] * 4, axis = 1)\n",
    "        loss = None\n",
    "        for t in count():\n",
    "            if num_steps % update_target_estimator_every == 0:\n",
    "                target_net.load_state_dict(policy_net.state_dict())\n",
    "\n",
    "            action = e_greedy_action()\n",
    "            next_state, reward, done, _ = env.step(action)\n",
    "            num_steps+=1\n",
    "            next_state = process(next_state)\n",
    "            next_state = np.concatenate((state[:,1:,:,:],next_state), axis=1)\n",
    "\n",
    "            if len(replay_memory) == replay_memory_size:\n",
    "                replay_memory.pop(0)\n",
    "            replay_memory.append(Transition(state, [[int(action)]],[reward], next_state, [not done]))\n",
    "            # Update statistics\n",
    "            stats.episode_rewards[i_episode] += reward\n",
    "            stats.episode_lengths[i_episode] +=1\n",
    "            if(num_steps%4==0):\n",
    "                transitions = random.sample(replay_memory, batch_size)\n",
    "                for i,t in enumerate(transitions):\n",
    "                    transitions[i] = Transition(torch.tensor(t.state, device= device, dtype = torch.float)/255,torch.tensor(t.action, device= device, dtype = torch.long), torch.tensor(t.reward, device= device, dtype = torch.float), torch.tensor(t.next_state, device= device, dtype = torch.float)/255 , torch.tensor(t.done, device= device, dtype = torch.float))\n",
    "                batch = Transition(*zip(*transitions))\n",
    "                state_batch = (torch.cat(batch.state))\n",
    "                action_batch = (torch.cat(batch.action))                \n",
    "                reward_batch = torch.cat(batch.reward)  \n",
    "                next_state_batch = torch.cat(batch.next_state)\n",
    "                done_batch = torch.cat(batch.done) \n",
    "                state_action_values = policy_net(state_batch).gather(1, action_batch)\n",
    "                q_next_batch = target_net(next_state_batch).max(1)[0].detach()\n",
    "                target_batch = reward_batch + discount_factor*done_batch*q_next_batch\n",
    "                loss = F.smooth_l1_loss(state_action_values, target_batch.unsqueeze(1))\n",
    "                optimizer.zero_grad()\n",
    "                loss.backward()\n",
    "                for param in policy_net.parameters():\n",
    "                      param.grad.data.clamp_(-1, 1)\n",
    "                optimizer.step()\n",
    "            state = next_state\n",
    "            if done:\n",
    "                break\n",
    "            if i_episode % 100 == 0:\n",
    "                    gc.collect()\n",
    "            if(i_episode%1000):\n",
    "                torch.save({\n",
    "                    'episode' : i_episode//1000+1,\n",
    "                    'state_dict' : policy_net.state_dict(),\n",
    "                    'optimizer' : optimizer.state_dict()},\n",
    "                    'dqn{}.model'.format(i_episode//1000+1))\n",
    "\n",
    "                \n",
    "        yield num_steps, plotting.EpisodeStats(\n",
    "            episode_lengths=stats.episode_lengths[:i_episode+1],\n",
    "            episode_rewards=stats.episode_rewards[:i_episode+1])\n",
    "\n",
    "    return stats\n"
   ]
  },
  {
   "cell_type": "code",
   "execution_count": null,
   "metadata": {},
   "outputs": [],
   "source": [
    "experiment_dir = os.path.abspath(\"./experiments/{}\".format(env.spec.id))\n",
    "i = 0\n",
    "reward = 0\n",
    "rewards = []\n",
    "for t, stats in learn(env,num_episodes=3,experiment_dir=experiment_dir,replay_memory_size=1000000,replay_memory_init_size=50000,update_target_estimator_every=10000,discount_factor=0.99,epsilon_start=1.0,epsilon_end=0.1,epsilon_decay_steps=1000000,batch_size=32,record_video_every=100):\n",
    "        reward+=stats.episode_rewards[-1]\n",
    "        if(i%100==0):\n",
    "            print(\"\\nEpisode Reward: {}\".format(reward/100))\n",
    "            rewards.append(reward/100)\n",
    "            reward = 0\n",
    "        i+=1\n",
    "        if(i%5000==0):\n",
    "            np.save(\"reward{}.npy\".format(i//5000),np.array(rewards))\n",
    "        \n",
    "        "
   ]
  },
  {
   "cell_type": "code",
   "execution_count": null,
   "metadata": {},
   "outputs": [],
   "source": []
  }
 ],
 "metadata": {
  "kernelspec": {
   "display_name": "Python 3",
   "language": "python",
   "name": "python3"
  },
  "language_info": {
   "codemirror_mode": {
    "name": "ipython",
    "version": 3
   },
   "file_extension": ".py",
   "mimetype": "text/x-python",
   "name": "python",
   "nbconvert_exporter": "python",
   "pygments_lexer": "ipython3",
   "version": "3.7.3"
  }
 },
 "nbformat": 4,
 "nbformat_minor": 2
}
